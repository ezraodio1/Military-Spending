{
 "cells": [
  {
   "cell_type": "code",
   "execution_count": 14,
   "id": "ca63f57d",
   "metadata": {},
   "outputs": [
    {
     "name": "stderr",
     "output_type": "stream",
     "text": [
      "/var/folders/9x/g_kvtjdj1pjf5r2kff4d1n_r0000gn/T/ipykernel_3993/1031549353.py:18: SettingWithCopyWarning: \n",
      "A value is trying to be set on a copy of a slice from a DataFrame.\n",
      "Try using .loc[row_indexer,col_indexer] = value instead\n",
      "\n",
      "See the caveats in the documentation: https://pandas.pydata.org/pandas-docs/stable/user_guide/indexing.html#returning-a-view-versus-a-copy\n",
      "  gdp['4yr_gdp'] = gdp[['2015', '2016', '2017', '2018']].mean(axis=1)\n"
     ]
    },
    {
     "name": "stdout",
     "output_type": "stream",
     "text": [
      "Happiness Model MSE: 1.2546039146199732 Happiness r^2: 0.002444887150755637\n",
      "Freedom Model MSE: 0.019164080490029732 Freedom r^2: 0.03157109827102267\n",
      "Corruption Model MSE: 0.010748284206031074 Corruption r^2: 0.0037663300097497965\n",
      "Health Model MSE: 0.05096121926905134 Health r^2: 0.0008943381968051778\n",
      "Ttest_indResult(statistic=1.7851760818817874, pvalue=0.07946192861371383)\n"
     ]
    },
    {
     "data": {
      "text/plain": [
       "<seaborn.axisgrid.FacetGrid at 0x122f763a0>"
      ]
     },
     "execution_count": 14,
     "metadata": {},
     "output_type": "execute_result"
    },
    {
     "data": {
      "image/png": "[encoded data removed]",
      "text/plain": [
       "<Figure size 360x360 with 1 Axes>"
      ]
     },
     "metadata": {
      "needs_background": "light"
     },
     "output_type": "display_data"
    },
    {
     "data": {
      "image/png": "[encoded data removed]",
      "text/plain": [
       "<Figure size 360x360 with 1 Axes>"
      ]
     },
     "metadata": {
      "needs_background": "light"
     },
     "output_type": "display_data"
    }
   ],
   "source": [
    "import numpy as np\n",
    "import pandas as pd\n",
    "import seaborn as sns\n",
    "from scipy import stats\n",
    "\n",
    "\n",
    "#MERGING\n",
    "\n",
    "#getting average military expenditure \n",
    "total_military_expenditure = pd.read_csv('militaryexpenditure.csv')\n",
    "military_expenditure = total_military_expenditure[['Name','2015','2016', '2017', '2018']].dropna() #drop rows with NaN\n",
    "military_expenditure['4yr_military'] = military_expenditure[['2015', '2016', '2017', '2018']].mean(axis=1)\n",
    "military_4yr = military_expenditure[['Name','4yr_military']]\n",
    "\n",
    "#getting average overall gdp\n",
    "total_gdp = pd.read_csv('gdp.csv')\n",
    "gdp = total_gdp[['Country Name', '2015', '2016', '2017', '2018']]\n",
    "gdp['4yr_gdp'] = gdp[['2015', '2016', '2017', '2018']].mean(axis=1)\n",
    "gdp_4yr = gdp[['Country Name','4yr_gdp']]\n",
    "\n",
    "\n",
    "#merging gdp and military expenditure datasets\n",
    "full_data = pd.merge(military_4yr, gdp_4yr, how='inner', left_on = 'Name', right_on='Country Name')\n",
    "#military_4yr: 191 rows\n",
    "#gdp_4yr: 266 rows\n",
    "#full_data: 188 rows\n",
    "\n",
    "#creating military expenditure as % of GDP column\n",
    "full_data = full_data.drop(['Country Name'], axis=1)\n",
    "full_data = full_data.rename(columns = {'Name': 'Country'})\n",
    "full_data['%_of_gdp'] = full_data['4yr_military']/full_data['4yr_gdp']*100 \n",
    "\n",
    "#getting average happiness scores from 2015-2018 per country\n",
    "happiness_2020 = pd.read_csv(\"WorldHappiness_Corruption_2015_2020.csv\")\n",
    "happiness = happiness_2020[(happiness_2020['Year'] != 2020) & (happiness_2020['Year'] != 2019)].drop(['Year'], axis=1)\n",
    "\n",
    "happiness = happiness.groupby('Country').aggregate('mean')\n",
    "#happiness: 132 rows\n",
    "\n",
    "#merging the happiness scores and military expenditure as % of gdp columns\n",
    "final_data = pd.merge(full_data, happiness, how='inner', left_on=['Country'], right_on=['Country']) #14 columns lost\n",
    "#final_data: 119 rows\n",
    "\n",
    "\n",
    "#CORRELATION: \n",
    "\n",
    "from sklearn.linear_model import LinearRegression\n",
    "from sklearn.linear_model import LogisticRegression\n",
    "from sklearn.metrics import mean_squared_error\n",
    "from sklearn.metrics import r2_score\n",
    "\n",
    "\n",
    "data = final_data[['%_of_gdp']].values\n",
    "'''the following models model happiness (and its  contributing factors of freedom, health, and \n",
    "government trust) as a function of the data. We run these models 4 times with different data points:\n",
    "1) %_of_gdp - happiness as a function of military expenditure gdp %\n",
    "2) 4yr_gdp - happiness as a function of overall average gdp \n",
    "3) 4yr_military - happiness as a function of overall military expenditure \n",
    "4) happiness_score - happiness factors as a function of overall happiness\n",
    "'''\n",
    "\n",
    "#overall happiness column: 'happiness_score'\n",
    "happiness_target = final_data['happiness_score'].values\n",
    "happiness_model = LinearRegression()\n",
    "happiness_model.fit(X=data, y=happiness_target) #fits model to the data\n",
    "predicted = happiness_model.predict(data) #predict it\n",
    "happiness_mse = mean_squared_error(happiness_target,predicted) # float: MSE of your model, what it is and what it shoudl be different\n",
    "happiness_r2 = r2_score(happiness_target, predicted) # float: R^2 score of your model\n",
    "\n",
    "#correlation\n",
    "#r = np.corrcoef(happiness_target, predicted)\n",
    "#print (r[0,1])\n",
    "\n",
    "#perception of freedom column: 'freedom'\n",
    "freedom_target = final_data['freedom'].values\n",
    "freedom_model = LinearRegression()\n",
    "freedom_model.fit(X=data, y=freedom_target) #fits model to the data\n",
    "predicted = freedom_model.predict(data) #predict it\n",
    "freedom_mse = mean_squared_error(freedom_target,predicted) # float: MSE of your model, what it is and what it shoudl be different\n",
    "freedom_r2 = r2_score(freedom_target, predicted) # float: R^2 score of your model\n",
    "\n",
    "#perception of corruption column:'government_trust'\n",
    "corruption_target = final_data['government_trust'].values\n",
    "corruption_model = LinearRegression()\n",
    "corruption_model.fit(X=data, y=corruption_target) #fits model to the data\n",
    "predicted = corruption_model.predict(data) #predict it\n",
    "corruption_mse = mean_squared_error(corruption_target,predicted) # float: MSE of your model, what it is and what it shoudl be different\n",
    "corruption_r2 = r2_score(corruption_target, predicted) # float: R^2 score of your model\n",
    "\n",
    "#life expectancy column:'health'\n",
    "health_target = final_data['health'].values\n",
    "health_model = LinearRegression()\n",
    "health_model.fit(X=data, y=health_target) #fits model to the data\n",
    "predicted = health_model.predict(data) #predict it\n",
    "health_mse = mean_squared_error(health_target,predicted) # float: MSE of your model, what it is and what it shoudl be different\n",
    "health_r2 = r2_score(health_target, predicted) # float: R^2 score of your model\n",
    "\n",
    "print(\"Happiness Model MSE:\", happiness_mse, \"Happiness r^2:\", happiness_r2)\n",
    "print(\"Freedom Model MSE:\", freedom_mse, \"Freedom r^2:\", freedom_r2)\n",
    "print(\"Corruption Model MSE:\", corruption_mse, \"Corruption r^2:\", corruption_r2)\n",
    "print(\"Health Model MSE:\", health_mse, \"Health r^2:\", health_r2)\n",
    "\n",
    "#results when data = '%_of_gdp':\n",
    "'''Happiness Model MSE: 1.2546039146199732 Happiness r^2: 0.002444887150755637\n",
    "Freedom Model MSE: 0.019164080490029732 Freedom r^2: 0.03157109827102267\n",
    "Corruption Model MSE: 0.010748284206031074 Corruption r^2: 0.0037663300097497965\n",
    "Health Model MSE: 0.05096121926905134 Health r^2: 0.0008943381968051778'''\n",
    "#almost no correlation, but low MSE for most besides happiness\n",
    "\n",
    "#results when data = '4yr_gdp':\n",
    "'''Happiness Model MSE: 1.2074921968966192 Happiness r^2: 0.03990414767305184\n",
    "Freedom Model MSE: 0.019403346721096587 Freedom r^2: 0.01948012769231655\n",
    "Corruption Model MSE: 0.010750138210718203 Corruption r^2: 0.003594486591932289\n",
    "Health Model MSE: 0.04880633957005264 Health r^2: 0.04314121805279503'''\n",
    "#almost no correlation, but low MSE for most besides happiness\n",
    "\n",
    "#results when data = '4yr_military':\n",
    "'''Happiness Model MSE: 1.2235327332777737 Happiness r^2: 0.027150067366589536\n",
    "Freedom Model MSE: 0.019606086693356985 Freedom r^2: 0.009234958414570893\n",
    "Corruption Model MSE: 0.010770958048517477 Corruption r^2: 0.0016647438514366675\n",
    "Health Model MSE: 0.04989951508855314 Health r^2: 0.021709276950440226'''\n",
    "#almost no correlation, but low MSE for most besides happiness\n",
    "\n",
    "#results when data = 'happiness score':\n",
    "'''\n",
    "Freedom Model MSE: 0.013155900347045313 Freedom r^2: 0.3351857329667688\n",
    "Corruption Model MSE: 0.00828957300827938 Corruption r^2: 0.23165859942032774\n",
    "Health Model MSE: 0.018259355526793475 Health r^2: 0.64202140864444'''\n",
    "#as expected, there is correlation for each, because higher happiness means higher contributing factors\n",
    "#BUT interesting that the health factor has the strongest correlation with overall happiness, it is most strongly affected\n",
    "\n",
    "\n",
    "small_spenders = final_data[final_data['%_of_gdp'] <= np.percentile(final_data['%_of_gdp'], 25)]\n",
    "small_spenders = small_spenders[\"happiness_score\"]\n",
    "\n",
    "big_spenders = final_data[final_data['%_of_gdp'] >= np.percentile(final_data['%_of_gdp'], 75)]\n",
    "big_spenders = big_spenders[\"happiness_score\"]\n",
    "\n",
    "hypothesis_test = stats.ttest_ind(small_spenders, big_spenders)\n",
    "print(hypothesis_test)\n",
    "'''\n",
    "Null hypothesis for this hypothesis test is that countries that spend more % of their GDP on their military and countries\n",
    "that spend a smaller % of their GDP on their military have the same happiness scores.\n",
    "\n",
    "Results: Ttest_indResult(statistic=1.7851760818817874, pvalue=0.07946192861371383)\n",
    "\n",
    "Since the p-value is >0.05, we fail to reject the null hypothesis. There is not convincing evidence that countries that\n",
    "spend more % of GDP on their military have different happiness scores than countries that spend less % of their GDP on\n",
    "their militaries.\n",
    "'''\n",
    "\n",
    "#sns.relplot(x=final_data['%_of_gdp'], y=final_data['happiness_score'])\n",
    "sns.catplot(data=final_data, y=\"happiness_score\", kind=\"box\")\n",
    "\n",
    "##Histogram of military spending for frequency of countries\n",
    "sns.displot(data = final_data, x = '%_of_gdp', binwidth = .5)"
   ]
  },
  {
   "cell_type": "code",
   "execution_count": null,
   "id": "bc2b94b3",
   "metadata": {},
   "outputs": [],
   "source": []
  }
 ],
 "metadata": {
  "kernelspec": {
   "display_name": "Python 3 (ipykernel)",
   "language": "python",
   "name": "python3"
  },
  "language_info": {
   "codemirror_mode": {
    "name": "ipython",
    "version": 3
   },
   "file_extension": ".py",
   "mimetype": "text/x-python",
   "name": "python",
   "nbconvert_exporter": "python",
   "pygments_lexer": "ipython3",
   "version": "3.9.12"
  }
 },
 "nbformat": 4,
 "nbformat_minor": 5
}
